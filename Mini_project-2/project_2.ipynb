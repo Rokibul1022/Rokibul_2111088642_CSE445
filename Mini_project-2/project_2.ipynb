{
 "cells": [
  {
   "cell_type": "code",
   "execution_count": null,
   "id": "2f35d6b7",
   "metadata": {},
   "outputs": [],
   "source": [
    "import numpy as np\n",
    "import pandas as pd\n",
    "import matplotlib.pyplot as plt\n",
    "import seaborn as sns\n",
    "from sklearn.model_selection import train_test_split\n",
    "from sklearn.preprocessing import StandardScaler\n",
    "from sklearn.ensemble import RandomForestClassifier\n",
    "#xgboost - loading problem - from github \n",
    "from sklearn.metrics import confusion_matrix, classification_report, accuracy_score\n",
    "from tensorflow.keras.models import Sequential\n",
    "from tensorflow.keras.layers import Dense\n",
    "import os\n"
   ]
  },
  {
   "cell_type": "code",
   "execution_count": 4,
   "id": "529d12be",
   "metadata": {},
   "outputs": [
    {
     "name": "stdout",
     "output_type": "stream",
     "text": [
      "Original Dataset:\n",
      "   Participant  Accuracy(%)  ReactionTime(min)\n",
      "0            1           36               0.48\n",
      "1            2           75               2.33\n",
      "2            3           89               2.42\n",
      "3            4           69               1.32\n",
      "4            5           56               0.32\n"
     ]
    },
    {
     "data": {
      "application/vnd.microsoft.datawrangler.viewer.v0+json": {
       "columns": [
        {
         "name": "index",
         "rawType": "object",
         "type": "string"
        },
        {
         "name": "Participant",
         "rawType": "float64",
         "type": "float"
        },
        {
         "name": "Accuracy(%)",
         "rawType": "float64",
         "type": "float"
        },
        {
         "name": "ReactionTime(min)",
         "rawType": "float64",
         "type": "float"
        }
       ],
       "ref": "8d224589-53fb-4fab-b3f0-0ff111331566",
       "rows": [
        [
         "count",
         "50.0",
         "50.0",
         "50.0"
        ],
        [
         "mean",
         "25.5",
         "65.44",
         "1.5082"
        ],
        [
         "std",
         "14.577379737113251",
         "20.814202372614794",
         "0.7938531453150076"
        ],
        [
         "min",
         "1.0",
         "31.0",
         "0.2"
        ],
        [
         "25%",
         "13.25",
         "49.0",
         "1.0725"
        ],
        [
         "50%",
         "25.5",
         "67.5",
         "1.4649999999999999"
        ],
        [
         "75%",
         "37.75",
         "85.25",
         "2.2824999999999998"
        ],
        [
         "max",
         "50.0",
         "98.0",
         "3.0"
        ]
       ],
       "shape": {
        "columns": 3,
        "rows": 8
       }
      },
      "text/html": [
       "<div>\n",
       "<style scoped>\n",
       "    .dataframe tbody tr th:only-of-type {\n",
       "        vertical-align: middle;\n",
       "    }\n",
       "\n",
       "    .dataframe tbody tr th {\n",
       "        vertical-align: top;\n",
       "    }\n",
       "\n",
       "    .dataframe thead th {\n",
       "        text-align: right;\n",
       "    }\n",
       "</style>\n",
       "<table border=\"1\" class=\"dataframe\">\n",
       "  <thead>\n",
       "    <tr style=\"text-align: right;\">\n",
       "      <th></th>\n",
       "      <th>Participant</th>\n",
       "      <th>Accuracy(%)</th>\n",
       "      <th>ReactionTime(min)</th>\n",
       "    </tr>\n",
       "  </thead>\n",
       "  <tbody>\n",
       "    <tr>\n",
       "      <th>count</th>\n",
       "      <td>50.00000</td>\n",
       "      <td>50.000000</td>\n",
       "      <td>50.000000</td>\n",
       "    </tr>\n",
       "    <tr>\n",
       "      <th>mean</th>\n",
       "      <td>25.50000</td>\n",
       "      <td>65.440000</td>\n",
       "      <td>1.508200</td>\n",
       "    </tr>\n",
       "    <tr>\n",
       "      <th>std</th>\n",
       "      <td>14.57738</td>\n",
       "      <td>20.814202</td>\n",
       "      <td>0.793853</td>\n",
       "    </tr>\n",
       "    <tr>\n",
       "      <th>min</th>\n",
       "      <td>1.00000</td>\n",
       "      <td>31.000000</td>\n",
       "      <td>0.200000</td>\n",
       "    </tr>\n",
       "    <tr>\n",
       "      <th>25%</th>\n",
       "      <td>13.25000</td>\n",
       "      <td>49.000000</td>\n",
       "      <td>1.072500</td>\n",
       "    </tr>\n",
       "    <tr>\n",
       "      <th>50%</th>\n",
       "      <td>25.50000</td>\n",
       "      <td>67.500000</td>\n",
       "      <td>1.465000</td>\n",
       "    </tr>\n",
       "    <tr>\n",
       "      <th>75%</th>\n",
       "      <td>37.75000</td>\n",
       "      <td>85.250000</td>\n",
       "      <td>2.282500</td>\n",
       "    </tr>\n",
       "    <tr>\n",
       "      <th>max</th>\n",
       "      <td>50.00000</td>\n",
       "      <td>98.000000</td>\n",
       "      <td>3.000000</td>\n",
       "    </tr>\n",
       "  </tbody>\n",
       "</table>\n",
       "</div>"
      ],
      "text/plain": [
       "       Participant  Accuracy(%)  ReactionTime(min)\n",
       "count     50.00000    50.000000          50.000000\n",
       "mean      25.50000    65.440000           1.508200\n",
       "std       14.57738    20.814202           0.793853\n",
       "min        1.00000    31.000000           0.200000\n",
       "25%       13.25000    49.000000           1.072500\n",
       "50%       25.50000    67.500000           1.465000\n",
       "75%       37.75000    85.250000           2.282500\n",
       "max       50.00000    98.000000           3.000000"
      ]
     },
     "execution_count": 4,
     "metadata": {},
     "output_type": "execute_result"
    }
   ],
   "source": [
    "# Load dataset\n",
    "df = pd.read_csv('stroop_test.csv')\n",
    "print(\"Original Dataset:\")\n",
    "print(df.head())\n",
    "df.describe()"
   ]
  },
  {
   "cell_type": "code",
   "execution_count": null,
   "id": "07431b1b",
   "metadata": {},
   "outputs": [
    {
     "name": "stdout",
     "output_type": "stream",
     "text": [
      "\n",
      "Labeled Dataset:\n",
      "   Participant  Accuracy(%)  ReactionTime(min)  Interference\n",
      "0            1           36               0.48             1\n",
      "1            2           75               2.33             1\n",
      "2            3           89               2.42             1\n",
      "3            4           69               1.32             1\n",
      "4            5           56               0.32             1\n",
      "\n",
      "Class Distribution:\n",
      "Interference\n",
      "1    48\n",
      "0     2\n",
      "Name: count, dtype: int64\n"
     ]
    }
   ],
   "source": [
    "#labeling-\n",
    "def label_data(row):\n",
    "    \"\"\"Classify based on accuracy and reaction time thresholds\"\"\"\n",
    "    if row['Accuracy(%)'] >= 70 and row['ReactionTime(min)'] <= 1.5:\n",
    "        return 0  # Low cognitive interference\n",
    "    return 1       # High cognitive interference\n",
    "\n",
    "df['Interference'] = df.apply(label_data, axis=1)\n",
    "print(\"\\nLabeled Dataset:\")\n",
    "print(df.head())\n",
    "print(\"\\nClass Distribution:\")\n",
    "print(df['Interference'].value_counts())"
   ]
  },
  {
   "cell_type": "code",
   "execution_count": 7,
   "id": "bda2c20a",
   "metadata": {},
   "outputs": [
    {
     "name": "stdout",
     "output_type": "stream",
     "text": [
      "\n",
      "Statistical Features:\n",
      "1. Accuracy Mean: 65.4400\n",
      "2. Reaction Time Mean: 1.5082\n",
      "3. Accuracy Std Dev: 20.8142\n",
      "4. Reaction Time Std Dev: 0.7939\n",
      "5. Accuracy-Reaction Correlation: 0.8794\n",
      "6. Min Accuracy: 31.0000\n",
      "7. Max Accuracy: 98.0000\n",
      "8. Min Reaction Time: 0.2000\n",
      "9. Max Reaction Time: 3.0000\n",
      "10. Accuracy Skewness: -0.1347\n",
      "11. Reaction Time Kurtosis: -0.9805\n",
      "12. Low Interference Percentage: 4.0000\n"
     ]
    }
   ],
   "source": [
    "# Statistical Features\n",
    "stats_features = {\n",
    "    '1. Accuracy Mean': df['Accuracy(%)'].mean(),\n",
    "    '2. Reaction Time Mean': df['ReactionTime(min)'].mean(),\n",
    "    '3. Accuracy Std Dev': df['Accuracy(%)'].std(),\n",
    "    '4. Reaction Time Std Dev': df['ReactionTime(min)'].std(),\n",
    "    '5. Accuracy-Reaction Correlation': df['Accuracy(%)'].corr(df['ReactionTime(min)']),\n",
    "    '6. Min Accuracy': df['Accuracy(%)'].min(),\n",
    "    '7. Max Accuracy': df['Accuracy(%)'].max(),\n",
    "    '8. Min Reaction Time': df['ReactionTime(min)'].min(),\n",
    "    '9. Max Reaction Time': df['ReactionTime(min)'].max(),\n",
    "    '10. Accuracy Skewness': df['Accuracy(%)'].skew(),\n",
    "    '11. Reaction Time Kurtosis': df['ReactionTime(min)'].kurtosis(),\n",
    "    '12. Low Interference Percentage': (df['Interference'] == 0).mean() * 100\n",
    "}\n",
    "\n",
    "print(\"\\nStatistical Features:\")\n",
    "for feature, value in stats_features.items():\n",
    "    print(f\"{feature}: {value:.4f}\")"
   ]
  },
  {
   "cell_type": "code",
   "execution_count": 8,
   "id": "4308253c",
   "metadata": {},
   "outputs": [],
   "source": [
    "# Data Preparation\n",
    "X = df[['Accuracy(%)', 'ReactionTime(min)']]\n",
    "y = df['Interference']\n",
    "X_train, X_test, y_train, y_test = train_test_split(\n",
    "    X, y, test_size=0.3, random_state=42\n",
    ")\n",
    "\n",
    "# Feature Scaling (for neural network)\n",
    "scaler = StandardScaler()\n",
    "X_train_scaled = scaler.fit_transform(X_train)\n",
    "X_test_scaled = scaler.transform(X_test)"
   ]
  },
  {
   "cell_type": "code",
   "execution_count": null,
   "id": "524ade8e",
   "metadata": {},
   "outputs": [
    {
     "name": "stdout",
     "output_type": "stream",
     "text": [
      "\n",
      "==================================================\n",
      "NEURAL NETWORK\n",
      "==================================================\n"
     ]
    },
    {
     "name": "stderr",
     "output_type": "stream",
     "text": [
      "/Users/rokibulislam/Documents/GitHub/Rokibul_2111088642_CSE445/venv/lib/python3.13/site-packages/keras/src/layers/core/dense.py:92: UserWarning: Do not pass an `input_shape`/`input_dim` argument to a layer. When using Sequential models, prefer using an `Input(shape)` object as the first layer in the model instead.\n",
      "  super().__init__(activity_regularizer=activity_regularizer, **kwargs)\n"
     ]
    },
    {
     "name": "stdout",
     "output_type": "stream",
     "text": [
      "\u001b[1m1/1\u001b[0m \u001b[32m━━━━━━━━━━━━━━━━━━━━\u001b[0m\u001b[37m\u001b[0m \u001b[1m0s\u001b[0m 28ms/step\n",
      "\n",
      "Neural Network Results:\n",
      "Accuracy: 1.0000\n",
      "Classification Report:\n",
      "              precision    recall  f1-score   support\n",
      "\n",
      "           1       1.00      1.00      1.00        15\n",
      "\n",
      "    accuracy                           1.00        15\n",
      "   macro avg       1.00      1.00      1.00        15\n",
      "weighted avg       1.00      1.00      1.00        15\n",
      "\n"
     ]
    },
    {
     "name": "stderr",
     "output_type": "stream",
     "text": [
      "/Users/rokibulislam/Documents/GitHub/Rokibul_2111088642_CSE445/venv/lib/python3.13/site-packages/sklearn/metrics/_classification.py:534: UserWarning: A single label was found in 'y_true' and 'y_pred'. For the confusion matrix to have the correct shape, use the 'labels' parameter to pass all known labels.\n",
      "  warnings.warn(\n"
     ]
    },
    {
     "data": {
      "image/png": "[encoded data removed]",
      "text/plain": [
       "<Figure size 600x500 with 2 Axes>"
      ]
     },
     "metadata": {},
     "output_type": "display_data"
    }
   ],
   "source": [
    "#Neural Network\n",
    "print(\"\\n\" + \"=\"*50)\n",
    "print(\"NEURAL NETWORK\")\n",
    "print(\"=\"*50)\n",
    "\n",
    "# Create model\n",
    "nn_model = Sequential([\n",
    "    Dense(16, activation='relu', input_shape=(2,)),\n",
    "    Dense(8, activation='relu'),\n",
    "    Dense(1, activation='sigmoid')\n",
    "])\n",
    "\n",
    "# Compile model\n",
    "nn_model.compile(optimizer='adam', \n",
    "              loss='binary_crossentropy', \n",
    "              metrics=['accuracy'])\n",
    "\n",
    "# Train model\n",
    "history = nn_model.fit(\n",
    "    X_train_scaled, y_train,\n",
    "    epochs=200,\n",
    "    batch_size=8,\n",
    "    validation_split=0.2,\n",
    "    verbose=0\n",
    ")\n",
    "\n",
    "# Evaluate model\n",
    "nn_probs = nn_model.predict(X_test_scaled)\n",
    "nn_pred = (nn_probs > 0.5).astype(int)\n",
    "nn_acc = accuracy_score(y_test, nn_pred)\n",
    "\n",
    "# Print results\n",
    "print(\"\\nNeural Network Results:\")\n",
    "print(f\"Accuracy: {nn_acc:.4f}\")\n",
    "print(\"Classification Report:\")\n",
    "print(classification_report(y_test, nn_pred))\n",
    "\n",
    "# Confusion Matrix\n",
    "nn_cm = confusion_matrix(y_test, nn_pred)\n",
    "plt.figure(figsize=(6, 5))\n",
    "sns.heatmap(nn_cm, annot=True, fmt='d', cmap='Blues', \n",
    "            xticklabels=['Low', 'High'], \n",
    "            yticklabels=['Low', 'High'])\n",
    "plt.title(f'Neural Network Confusion Matrix\\nAccuracy: {nn_acc:.4f}')\n",
    "plt.ylabel('Actual')\n",
    "plt.xlabel('Predicted')\n",
    "plt.savefig('neural_network_cm.png')\n",
    "plt.show()\n"
   ]
  },
  {
   "cell_type": "code",
   "execution_count": 13,
   "id": "3123c957",
   "metadata": {},
   "outputs": [
    {
     "name": "stdout",
     "output_type": "stream",
     "text": [
      "\n",
      "==================================================\n",
      "RANDOM FOREST\n",
      "==================================================\n",
      "\n",
      "Random Forest Results:\n",
      "Accuracy: 1.0000\n",
      "Classification Report:\n",
      "              precision    recall  f1-score   support\n",
      "\n",
      "           1       1.00      1.00      1.00        15\n",
      "\n",
      "    accuracy                           1.00        15\n",
      "   macro avg       1.00      1.00      1.00        15\n",
      "weighted avg       1.00      1.00      1.00        15\n",
      "\n"
     ]
    },
    {
     "name": "stderr",
     "output_type": "stream",
     "text": [
      "/Users/rokibulislam/Documents/GitHub/Rokibul_2111088642_CSE445/venv/lib/python3.13/site-packages/sklearn/metrics/_classification.py:534: UserWarning: A single label was found in 'y_true' and 'y_pred'. For the confusion matrix to have the correct shape, use the 'labels' parameter to pass all known labels.\n",
      "  warnings.warn(\n"
     ]
    },
    {
     "data": {
      "image/png": "[encoded data removed]",
      "text/plain": [
       "<Figure size 600x500 with 2 Axes>"
      ]
     },
     "metadata": {},
     "output_type": "display_data"
    },
    {
     "name": "stderr",
     "output_type": "stream",
     "text": [
      "/var/folders/rw/78tm6n2d2856gsqb273p1x2h0000gn/T/ipykernel_75688/36715985.py:41: FutureWarning: \n",
      "\n",
      "Passing `palette` without assigning `hue` is deprecated and will be removed in v0.14.0. Assign the `y` variable to `hue` and set `legend=False` for the same effect.\n",
      "\n",
      "  sns.barplot(x=rf_importance, y=features, palette='viridis')\n"
     ]
    },
    {
     "data": {
      "image/png": "[encoded data removed]",
      "text/plain": [
       "<Figure size 800x400 with 1 Axes>"
      ]
     },
     "metadata": {},
     "output_type": "display_data"
    }
   ],
   "source": [
    "# Random Forest\n",
    "print(\"\\n\" + \"=\"*50)\n",
    "print(\"RANDOM FOREST\")\n",
    "print(\"=\"*50)\n",
    "\n",
    "# Create and train model\n",
    "rf_model = RandomForestClassifier(\n",
    "    n_estimators=200,\n",
    "    max_depth=5,\n",
    "    min_samples_split=5,\n",
    "    random_state=42\n",
    ")\n",
    "rf_model.fit(X_train, y_train)\n",
    "\n",
    "# Evaluate model\n",
    "rf_pred = rf_model.predict(X_test)\n",
    "rf_acc = accuracy_score(y_test, rf_pred)\n",
    "\n",
    "# Print results\n",
    "print(\"\\nRandom Forest Results:\")\n",
    "print(f\"Accuracy: {rf_acc:.4f}\")\n",
    "print(\"Classification Report:\")\n",
    "print(classification_report(y_test, rf_pred))\n",
    "\n",
    "# Confusion Matrix\n",
    "rf_cm = confusion_matrix(y_test, rf_pred)\n",
    "plt.figure(figsize=(6, 5))\n",
    "sns.heatmap(rf_cm, annot=True, fmt='d', cmap='Greens', \n",
    "            xticklabels=['Low', 'High'], \n",
    "            yticklabels=['Low', 'High'])\n",
    "plt.title(f'Random Forest Confusion Matrix\\nAccuracy: {rf_acc:.4f}')\n",
    "plt.ylabel('Actual')\n",
    "plt.xlabel('Predicted')\n",
    "plt.savefig('random_forest_cm.png')\n",
    "plt.show()\n",
    "\n",
    "# Feature importance\n",
    "rf_importance = rf_model.feature_importances_\n",
    "features = X.columns\n",
    "plt.figure(figsize=(8, 4))\n",
    "sns.barplot(x=rf_importance, y=features, palette='viridis')\n",
    "plt.title('Random Forest Feature Importance')\n",
    "plt.savefig('rf_feature_importance.png')\n",
    "plt.show()\n"
   ]
  }
 ],
 "metadata": {
  "kernelspec": {
   "display_name": "venv",
   "language": "python",
   "name": "python3"
  },
  "language_info": {
   "codemirror_mode": {
    "name": "ipython",
    "version": 3
   },
   "file_extension": ".py",
   "mimetype": "text/x-python",
   "name": "python",
   "nbconvert_exporter": "python",
   "pygments_lexer": "ipython3",
   "version": "3.13.2"
  }
 },
 "nbformat": 4,
 "nbformat_minor": 5
}
